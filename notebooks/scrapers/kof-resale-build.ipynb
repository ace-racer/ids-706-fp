{
 "cells": [
  {
   "cell_type": "code",
   "execution_count": 1,
   "metadata": {},
   "outputs": [],
   "source": [
    "import requests\n",
    "import urllib.request\n",
    "import time\n",
    "from bs4 import BeautifulSoup\n",
    "import pandas as pd\n",
    "from pathlib import Path\n",
    "import os\n",
    "import re\n",
    "import numpy as np\n",
    "import json"
   ]
  },
  {
   "cell_type": "code",
   "execution_count": 2,
   "metadata": {},
   "outputs": [],
   "source": [
    "cur_path = Path(os.getcwd())\n",
    "raw = cur_path / '..' / '..' / 'data' / '01_raw'"
   ]
  },
  {
   "cell_type": "code",
   "execution_count": 3,
   "metadata": {},
   "outputs": [],
   "source": [
    "def get_random_ua():\n",
    "    random_ua = ''\n",
    "    ua_file = raw / 'web-drivers' / 'user-agents.txt'\n",
    "    try:\n",
    "        with open(ua_file) as f:\n",
    "            lines = f.readlines()\n",
    "        if len(lines) > 0:\n",
    "            prng = np.random.RandomState()\n",
    "            index = prng.permutation(len(lines) - 1)\n",
    "            idx = np.asarray(index, dtype=np.integer)[0]\n",
    "            random_ua = lines[int(idx)]\n",
    "            random_ua = random_ua[:len(random_ua)-2]\n",
    "    except Exception as ex:\n",
    "        print('Exception in random_ua')\n",
    "        print(str(ex))\n",
    "    finally:\n",
    "        return random_ua"
   ]
  },
  {
   "cell_type": "code",
   "execution_count": 8,
   "metadata": {},
   "outputs": [
    {
     "name": "stdout",
     "output_type": "stream",
     "text": [
      "<!DOCTYPE html>\n",
      " <html lang=\"en\"> <head> <meta charset=\"utf-8\"/> <meta content=\"ie=edge\" http-equiv=\"x-ua-compatible\"/> <meta content=\"width=device-width, initial-scale=1, shrink-to-fit=no\" name=\"viewport\"/> <title>StackPath</title> <style> *{box-sizing: border-box;}*::before, *::after{box-sizing: border-box;}*:focus{outline: none;}html{-moz-osx-font-smoothing: grayscale;-ms-overflow-style: -ms-autohiding-scrollbar;-webkit-font-smoothing: antialiased;font-size: 16px;}body{background-color: #fff;color: #545963;font-family: -apple-system, BlinkMacSystemFont, \"Segoe UI\", \"Roboto\", \"Oxygen\", \"Ubuntu\", \"Cantarell\", \"Fira Sans\", \"Droid Sans\", \"Helvetica Neue\", sans-serif;font-weight: 400;line-height: 1.6;margin: 0;min-width: 20rem;}h1, p{margin: 0;padding: 0;}h1{font-size: 2rem;font-weight: 400;line-height: 1;}h1:not(:last-child){margin-bottom: 3rem;}p{font-size: 1rem;}p:not(:last-child){margin-bottom: 1.5rem;}a{color: #0934a0;text-decoration: none;}a:hover{color: #0934a0;text-decoration: underline;}table{border-collapse: collapse;margin-top: 3rem;width: 100%;}th, td{padding: 0.3125rem 0.3125rem 0 0.3125rem;vertical-align: top;}th:first-child, td:first-child{padding-left: 0;}th:last-child, td:last-child{padding-right: 0;}th{font-size: 0.75rem;font-weight: 400;text-align: left;text-transform: uppercase;}td{font-family: SFMono-Regular, Menlo, Monaco, Consolas, \"Liberation Mono\", \"Courier New\", monospace;font-size: 0.875rem;}td:first-child{word-break: break-all;}form{margin-top: 3rem;text-align: center;}button, input{border-radius: 0.25rem;border: 0.0625rem solid transparent;display: block;font-family: inherit;font-size: 1rem;margin: 0 auto;max-width: 100%;padding: 0.625rem;text-align: center;}input{-moz-appearance: none;-webkit-appearance: none;background: #fff;border-color: #a4a8af;color: #000;margin-top: 1.5rem;width: 12.5rem;}button{-webkit-appearance: button;background: #0934a0;color: #fff;cursor: pointer;font-weight: 700;margin-top: 1rem;width: 6.25rem;}button:hover{background: #080086;color: #fff;}.error{color: #c00;font-size: 0.8125rem;padding-top: 0.3125rem;}.layout{-webkit-box-direction: normal;-webkit-box-orient: vertical;display: -webkit-box;display: flex;flex-flow: column;margin-left: auto;margin-right: auto;max-width: 43.75rem;min-height: 100vh;padding: 4rem 1rem;}.layout__main{margin-bottom: auto;}.layout__footer{margin-top: auto;padding-top: 3rem;text-align: center;}@media(max-width: 767px){h1{font-size: 2rem;}h1:not(:last-child){margin-bottom: 1.5rem;}table, tbody, tr, td{display: block;}table{margin-top: 1.5rem;}thead{display: none;}td{padding: 1.375rem 0 0.625rem 0;position: relative;}td::before{content: attr(data-title);font-family: -apple-system, BlinkMacSystemFont, \"Segoe UI\", \"Roboto\", \"Oxygen\", \"Ubuntu\", \"Cantarell\", \"Fira Sans\", \"Droid Sans\", \"Helvetica Neue\", sans-serif;font-size: 0.75rem;left: 0;position: absolute;text-transform: uppercase;top: 0;}form{margin-top: 1.5rem;}.layout{padding: 2rem 1rem;}}</style> </head> <body> <div class=\"layout\"> <div class=\"layout__main\"> <h1>Access Denied</h1> <p> <strong>wwwkicksonfirecom-m24jxqnd.stackpathdns.com</strong> is using a security service for protection against online attacks. An action has triggered the service and blocked your request. </p> <p> Please try again in a few minutes. If the issue persist, please contact the site owner for further assistance. </p> <table> <thead> <tr> <th>Reference ID</th> <th>IP Address</th> <th>Date and Time</th> </tr> </thead> <tbody> <tr> <td data-title=\"Reference ID\">2f6b48ad18ef65abcb28906a822f5d3a</td> <td data-title=\"IP Address\">98.26.32.208</td> <td data-title=\"Date and Time\">11/10/2020 08:18 PM UTC</td> </tr> </tbody> </table> </div> <div class=\"layout__footer\"> Protected by <a href=\"https://www.stackpath.com/\" target=\"_blank\">StackPath</a> </div> </div> </body> </html> \n",
      "[]\n"
     ]
    }
   ],
   "source": [
    "urln = 1\n",
    "end = False\n",
    "kof = {}\n",
    "delays = [i for i in range(5, 15)]\n",
    "\n",
    "while end == False:\n",
    "    try:\n",
    "        #kof price calendar\n",
    "        time.sleep(np.random.choice(delays))\n",
    "        url = 'https://www.kicksonfire.com/app/priceguide?page=' + str(urln)\n",
    "        user_agent = get_random_ua()\n",
    "        headers = {'user-agent': user_agent}\n",
    "        source = BeautifulSoup(requests.get(url, headers=headers).text)\n",
    "        print(source)\n",
    "        sneakers_on_page = source.find_all('a',href=True)[44:144]\n",
    "        print(sneakers_on_page)\n",
    "        break\n",
    "        \n",
    "    except IndexError:\n",
    "        end = True\n",
    "        break\n",
    "\n",
    "    for index, sneaker_link in enumerate(sneakers_on_page):\n",
    "        if index % 2 == 0:\n",
    "            continue\n",
    "            \n",
    "        user_agent = get_random_ua()\n",
    "        headers = {'user-agent': user_agent}\n",
    "        time.sleep(np.random.choice(delays))\n",
    "        cur_url = sneaker_link.get('href')\n",
    "        cur_url = str(cur_url)\n",
    "        print(cur_url)\n",
    "        sneaker = BeautifulSoup(requests.get(cur_url, headers=headers).text)\n",
    "        \n",
    "        metadata = sneaker.find_all('p', class_='att-value')\n",
    "        wants = int(metadata[0].text)\n",
    "        release_date = metadata[1].text\n",
    "        style_code = metadata[2].text\n",
    "        retail = metadata[3].text\n",
    "        \n",
    "        colorway = sneaker.find_all('p', class_='style')[0].text\n",
    "        \n",
    "        description = sneaker.find_all('p', class_='release-description')[0].text\n",
    "        \n",
    "        resale_data = sneaker.find_all('h4')\n",
    "        name = resale_data[0].text\n",
    "        resale = resale_data[1].text\n",
    "        \n",
    "        kof[style_code] = {'name':name, 'release_date':release_date, 'colorway': colorway, 'retail_price':retail,\n",
    "                           'kof_wants': wants, 'description':description, 'resale_price':resale}\n",
    "        \n",
    "    with open(raw / 'kof.json', 'w') as outfile:\n",
    "        json.dump(kof, outfile)\n",
    "    print(urln)\n",
    "    urln += 1"
   ]
  },
  {
   "cell_type": "code",
   "execution_count": null,
   "metadata": {},
   "outputs": [],
   "source": [
    "with open(raw / 'kof.json', 'w') as outfile:\n",
    "    json.dump(kof, outfile)"
   ]
  }
 ],
 "metadata": {
  "kernelspec": {
   "display_name": "Python 3",
   "language": "python",
   "name": "python3"
  },
  "language_info": {
   "codemirror_mode": {
    "name": "ipython",
    "version": 3
   },
   "file_extension": ".py",
   "mimetype": "text/x-python",
   "name": "python",
   "nbconvert_exporter": "python",
   "pygments_lexer": "ipython3",
   "version": "3.7.7"
  },
  "widgets": {
   "application/vnd.jupyter.widget-state+json": {
    "state": {},
    "version_major": 2,
    "version_minor": 0
   }
  }
 },
 "nbformat": 4,
 "nbformat_minor": 2
}
