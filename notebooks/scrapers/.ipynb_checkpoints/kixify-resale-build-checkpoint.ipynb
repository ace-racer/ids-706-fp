{
 "cells": [
  {
   "cell_type": "code",
   "execution_count": 5,
   "metadata": {},
   "outputs": [],
   "source": [
    "import requests\n",
    "import urllib.request\n",
    "import time\n",
    "from bs4 import BeautifulSoup\n",
    "import pandas as pd\n",
    "from pathlib import Path\n",
    "import os\n",
    "import re\n",
    "import numpy as np"
   ]
  },
  {
   "cell_type": "code",
   "execution_count": 6,
   "metadata": {},
   "outputs": [],
   "source": [
    "cur_path = Path(os.getcwd())\n",
    "raw = cur_path / '..' / '..' / 'data' / '01_raw'"
   ]
  },
  {
   "cell_type": "code",
   "execution_count": 7,
   "metadata": {},
   "outputs": [],
   "source": [
    "df = pd.read_csv(raw / 'sneaker.csv')\n",
    "shoes = list(df.style_code)"
   ]
  },
  {
   "cell_type": "code",
   "execution_count": 8,
   "metadata": {},
   "outputs": [],
   "source": [
    "def get_random_ua():\n",
    "    random_ua = ''\n",
    "    ua_file = raw / 'web-drivers' / 'user-agents.txt'\n",
    "    try:\n",
    "        with open(ua_file) as f:\n",
    "            lines = f.readlines()\n",
    "        if len(lines) > 0:\n",
    "            prng = np.random.RandomState()\n",
    "            index = prng.permutation(len(lines) - 1)\n",
    "            idx = np.asarray(index, dtype=np.integer)[0]\n",
    "            random_ua = lines[int(idx)]\n",
    "            random_ua = random_ua[:len(random_ua)-2]\n",
    "    except Exception as ex:\n",
    "        print('Exception in random_ua')\n",
    "        print(str(ex))\n",
    "    finally:\n",
    "        return random_ua"
   ]
  },
  {
   "cell_type": "code",
   "execution_count": 14,
   "metadata": {
    "scrolled": true
   },
   "outputs": [],
   "source": [
    "kixify = {}\n",
    "long_delays = [i for i in range(10,21)]\n",
    "delays = [i for i in range(3, 20)]\n",
    "\n",
    "# for i in range(5):\n",
    "for index, shoe in enumerate(shoes):\n",
    "    if shoe in kixify.keys():\n",
    "        continue\n",
    "        \n",
    "    url = 'https://www.goat.com/search?query=' + str(shoe)\n",
    "\n",
    "    try:\n",
    "        user_agent = get_random_ua()\n",
    "        headers = {'user-agent': user_agent}\n",
    "        source = BeautifulSoup(requests.get(url, headers=headers).text)\n",
    "        time.sleep(np.random.choice(delays))\n",
    "        prices = source.find_all('span', class_='product-price')\n",
    "        all_prices = []\n",
    "        for price in prices:\n",
    "            p = str(price.text)\n",
    "            p = p.replace(',', '')\n",
    "            p = float(p[1:])\n",
    "            all_prices.append(p)\n",
    "        \n",
    "        kixify[shoe] = {'med_price':np.median(all_prices), 'mean_price':np.mean(all_prices)}\n",
    "        time.sleep(np.random.choice(long_delays))\n",
    "    except:\n",
    "        pass    "
   ]
  },
  {
   "cell_type": "code",
   "execution_count": null,
   "metadata": {},
   "outputs": [],
   "source": [
    "with open(raw / 'kixify.json', 'w') as outfile:\n",
    "    json.dump(kixify, outfile)"
   ]
  },
  {
   "cell_type": "code",
   "execution_count": null,
   "metadata": {},
   "outputs": [],
   "source": []
  }
 ],
 "metadata": {
  "kernelspec": {
   "display_name": "Python 3",
   "language": "python",
   "name": "python3"
  },
  "language_info": {
   "codemirror_mode": {
    "name": "ipython",
    "version": 3
   },
   "file_extension": ".py",
   "mimetype": "text/x-python",
   "name": "python",
   "nbconvert_exporter": "python",
   "pygments_lexer": "ipython3",
   "version": "3.7.7"
  },
  "widgets": {
   "application/vnd.jupyter.widget-state+json": {
    "state": {},
    "version_major": 2,
    "version_minor": 0
   }
  }
 },
 "nbformat": 4,
 "nbformat_minor": 2
}
