{
 "cells": [
  {
   "cell_type": "code",
   "execution_count": 3,
   "metadata": {},
   "outputs": [],
   "source": [
    "import requests\n",
    "import urllib.request\n",
    "import time\n",
    "from bs4 import BeautifulSoup\n",
    "from selenium import webdriver\n",
    "import pandas as pd\n",
    "from selenium.webdriver.common.keys import Keys\n",
    "from selenium.webdriver.chrome.options import Options\n",
    "from pathlib import Path\n",
    "import os\n",
    "import re\n",
    "import numpy as np"
   ]
  },
  {
   "cell_type": "code",
   "execution_count": 4,
   "metadata": {},
   "outputs": [],
   "source": [
    "cur_path = Path(os.getcwd())\n",
    "raw = cur_path / '..' / '..' / 'data' / '01_raw'"
   ]
  },
  {
   "cell_type": "code",
   "execution_count": 5,
   "metadata": {},
   "outputs": [],
   "source": [
    "df = pd.read_csv(raw / 'sneaker.csv')\n",
    "shoes = list(df.style_code)"
   ]
  },
  {
   "cell_type": "code",
   "execution_count": 6,
   "metadata": {},
   "outputs": [],
   "source": [
    "options = Options()"
   ]
  },
  {
   "cell_type": "code",
   "execution_count": 7,
   "metadata": {},
   "outputs": [],
   "source": [
    "#update driver here: http://chromedriver.chromium.org/downloads\n",
    "driver = webdriver.Chrome(executable_path= raw /'web-drivers'/ 'chromedriver')"
   ]
  },
  {
   "cell_type": "code",
   "execution_count": 8,
   "metadata": {},
   "outputs": [],
   "source": [
    "driver.get(\"https://stockx.com/\")"
   ]
  },
  {
   "cell_type": "code",
   "execution_count": 9,
   "metadata": {},
   "outputs": [],
   "source": [
    "def get_random_ua():\n",
    "    random_ua = ''\n",
    "    ua_file = raw / 'web-drivers' / 'user-agents.txt'\n",
    "    try:\n",
    "        with open(ua_file) as f:\n",
    "            lines = f.readlines()\n",
    "        if len(lines) > 0:\n",
    "            prng = np.random.RandomState()\n",
    "            index = prng.permutation(len(lines) - 1)\n",
    "            idx = np.asarray(index, dtype=np.integer)[0]\n",
    "            random_ua = lines[int(idx)]\n",
    "    except Exception as ex:\n",
    "        print('Exception in random_ua')\n",
    "        print(str(ex))\n",
    "    finally:\n",
    "        return random_ua"
   ]
  },
  {
   "cell_type": "code",
   "execution_count": null,
   "metadata": {
    "scrolled": true
   },
   "outputs": [],
   "source": [
    "stockx = {}\n",
    "long_delays = [i for i in range(10,21)]\n",
    "delays = [i for i in range(3, 20)]\n",
    "\n",
    "# for i in range(5):\n",
    "for index, shoe in enumerate(shoes):\n",
    "    user_agent = get_random_ua()\n",
    "    options = Options()\n",
    "    options.add_argument(f'user-agent={user_agent}')\n",
    "    driver = webdriver.Chrome(chrome_options=options, executable_path= raw /'web-drivers'/ 'chromedriver')\n",
    "    driver.get('https://www.spacejam.com/')\n",
    "\n",
    "    if shoe in stockx.keys():\n",
    "        continue\n",
    "\n",
    "    try:\n",
    "        time.sleep(np.random.choice(delays))\n",
    "        url = 'https://stockx.com/search?s=' + str(shoe)\n",
    "        driver.get(url)\n",
    "        time.sleep(np.random.choice(long_delays))\n",
    "        driver.find_element_by_css_selector('#main-content > div.browse-grid.loading.undefined > div.browse-grid > div:nth-child(1) > div > a > div.css-1spf6z8.e1b7sao0 > div.css-1iephdx.e1inh05x0').click()\n",
    "        time.sleep(np.random.choice(delays))\n",
    "        headers = {'user-agent': user_agent}\n",
    "        soupMain = BeautifulSoup(driver.page_source, 'html.parser', headers=headers)\n",
    "        resale = soupMain.find_all('div', class_='gauge-value')[2].text\n",
    "        colorway = soupMain.find_all('span', {'data-testid': 'product-detail-colorway'})[0].text        \n",
    "\n",
    "        stockx[shoe] = {'resale_price':resale, 'colorway':colorway}\n",
    "        time.sleep(np.random.choice(delays))\n",
    "    except:\n",
    "        pass"
   ]
  },
  {
   "cell_type": "code",
   "execution_count": null,
   "metadata": {},
   "outputs": [],
   "source": [
    "driver.quit()"
   ]
  },
  {
   "cell_type": "code",
   "execution_count": null,
   "metadata": {},
   "outputs": [],
   "source": [
    "stockx"
   ]
  },
  {
   "cell_type": "code",
   "execution_count": null,
   "metadata": {},
   "outputs": [],
   "source": [
    "with open(raw / 'stockx.json', 'w') as outfile:\n",
    "    json.dump(stockx, outfile)"
   ]
  }
 ],
 "metadata": {
  "kernelspec": {
   "display_name": "Python 3",
   "language": "python",
   "name": "python3"
  },
  "language_info": {
   "codemirror_mode": {
    "name": "ipython",
    "version": 3
   },
   "file_extension": ".py",
   "mimetype": "text/x-python",
   "name": "python",
   "nbconvert_exporter": "python",
   "pygments_lexer": "ipython3",
   "version": "3.7.7"
  },
  "widgets": {
   "application/vnd.jupyter.widget-state+json": {
    "state": {},
    "version_major": 2,
    "version_minor": 0
   }
  }
 },
 "nbformat": 4,
 "nbformat_minor": 2
}
