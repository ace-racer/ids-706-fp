{
 "cells": [
  {
   "cell_type": "code",
   "execution_count": 1,
   "metadata": {},
   "outputs": [],
   "source": [
    "import pandas as pd\n",
    "import os\n",
    "from pathlib import Path\n",
    "import numpy as np"
   ]
  },
  {
   "cell_type": "code",
   "execution_count": 2,
   "metadata": {},
   "outputs": [],
   "source": [
    "update = Path(os.getcwd()) / '..' / '..'/ 'data' / '01_raw' / 'update'\n",
    "sneaker = pd.read_csv(update / 'sneaker.csv')"
   ]
  },
  {
   "cell_type": "code",
   "execution_count": 3,
   "metadata": {},
   "outputs": [],
   "source": [
    "sneaker = sneaker[['style_code', 'name', 'release_date', 'original_price', 'description','brand_id']]\n",
    "sneaker = sneaker.rename(columns={'original_price':'retail_price', 'release_date':'date'})"
   ]
  },
  {
   "cell_type": "code",
   "execution_count": 4,
   "metadata": {},
   "outputs": [],
   "source": [
    "sneaker['date'] = pd.to_datetime(sneaker['date'])\n",
    "sneaker['release_month'] = sneaker['date'].dt.month\n",
    "sneaker['release_dow'] = sneaker['date'].dt.weekday\n",
    "month = {1:'Jan',2:'Feb',3:'Mar',4:'Apr',5:'May',6:'Jun',7:'Jul',8:'Aug',9:'Sep',10:'Oct',11:'Nov',12:'Dec'}\n",
    "dow = {0:'Monday', 1:'Tuesday', 2:'Wednesday', 3:'Thursday', 4:'Friday', 5:'Saturday', 6:'Sunday'}\n",
    "sneaker['release_month'] = sneaker['release_month'].map(month)\n",
    "sneaker['release_dow'] = sneaker['release_dow'].map(dow)\n",
    "sneaker['date'] = sneaker['date'].dt.date"
   ]
  },
  {
   "cell_type": "code",
   "execution_count": 5,
   "metadata": {},
   "outputs": [],
   "source": [
    "sneaker['retail_price'] = sneaker['retail_price'].fillna(np.mean(sneaker.retail_price))\n",
    "sneaker['name_join'] = sneaker['name'].str.lower()\n",
    "sneaker['wmns'] = sneaker['name_join'].str.contains(r' wmns')\n",
    "sneaker['collab'] = sneaker['name_join'].str.contains(r' x ')\n",
    "sneaker['retro'] = sneaker['name_join'].str.contains(r' retro| og')\n",
    "sneaker['kids'] = sneaker['name_join'].str.contains(r' gs| kid| kids')"
   ]
  },
  {
   "cell_type": "code",
   "execution_count": 6,
   "metadata": {},
   "outputs": [],
   "source": [
    "brand = pd.read_csv(update / 'brand.csv')\n",
    "brand['name'] = brand['name'].str.title()"
   ]
  },
  {
   "cell_type": "code",
   "execution_count": 7,
   "metadata": {},
   "outputs": [],
   "source": [
    "brand['name'] = brand['name'].str.replace('Jordan', 'Air Jordan')"
   ]
  },
  {
   "cell_type": "code",
   "execution_count": 8,
   "metadata": {},
   "outputs": [],
   "source": [
    "valid_brands = ['Nike', 'Air Jordan', 'Adidas', 'Jordan Brand', 'Reebok',\n",
    "       'Other Brands', 'Converse', 'Puma', 'New Balance', 'Asics', 'Vans',\n",
    "       'Nike Basketball', 'Nike Running']\n",
    "brand['name'] = brand['name'].apply(lambda x: 'Other Brands' if x not in valid_brands else x)\n",
    "brand = brand.rename(columns={'id':'brand_id', 'name':'brand'})\n",
    "brand = brand[['brand_id', 'brand']]"
   ]
  },
  {
   "cell_type": "code",
   "execution_count": 9,
   "metadata": {},
   "outputs": [],
   "source": [
    "sneaker = sneaker.merge(brand, how='left', on='brand_id')"
   ]
  },
  {
   "cell_type": "code",
   "execution_count": 11,
   "metadata": {},
   "outputs": [
    {
     "data": {
      "text/html": [
       "<div>\n",
       "<style scoped>\n",
       "    .dataframe tbody tr th:only-of-type {\n",
       "        vertical-align: middle;\n",
       "    }\n",
       "\n",
       "    .dataframe tbody tr th {\n",
       "        vertical-align: top;\n",
       "    }\n",
       "\n",
       "    .dataframe thead th {\n",
       "        text-align: right;\n",
       "    }\n",
       "</style>\n",
       "<table border=\"1\" class=\"dataframe\">\n",
       "  <thead>\n",
       "    <tr style=\"text-align: right;\">\n",
       "      <th></th>\n",
       "      <th>style_code</th>\n",
       "      <th>name</th>\n",
       "      <th>date</th>\n",
       "      <th>retail_price</th>\n",
       "      <th>description</th>\n",
       "      <th>brand_id</th>\n",
       "      <th>release_month</th>\n",
       "      <th>release_dow</th>\n",
       "      <th>name_join</th>\n",
       "      <th>wmns</th>\n",
       "      <th>collab</th>\n",
       "      <th>retro</th>\n",
       "      <th>kids</th>\n",
       "      <th>brand</th>\n",
       "    </tr>\n",
       "  </thead>\n",
       "  <tbody>\n",
       "    <tr>\n",
       "      <th>0</th>\n",
       "      <td>DB5074-100</td>\n",
       "      <td>Nike Air Max 1 \"Spiral Sage\"</td>\n",
       "      <td>2020-11-30</td>\n",
       "      <td>150.0</td>\n",
       "      <td>Dubbed \"Spiral Sage\" this Nike Air Max 1 featu...</td>\n",
       "      <td>117</td>\n",
       "      <td>Nov</td>\n",
       "      <td>Monday</td>\n",
       "      <td>nike air max 1 \"spiral sage\"</td>\n",
       "      <td>False</td>\n",
       "      <td>False</td>\n",
       "      <td>False</td>\n",
       "      <td>False</td>\n",
       "      <td>Nike</td>\n",
       "    </tr>\n",
       "  </tbody>\n",
       "</table>\n",
       "</div>"
      ],
      "text/plain": [
       "   style_code                          name        date  retail_price  \\\n",
       "0  DB5074-100  Nike Air Max 1 \"Spiral Sage\"  2020-11-30         150.0   \n",
       "\n",
       "                                         description  brand_id release_month  \\\n",
       "0  Dubbed \"Spiral Sage\" this Nike Air Max 1 featu...       117           Nov   \n",
       "\n",
       "  release_dow                     name_join   wmns  collab  retro   kids brand  \n",
       "0      Monday  nike air max 1 \"spiral sage\"  False   False  False  False  Nike  "
      ]
     },
     "execution_count": 11,
     "metadata": {},
     "output_type": "execute_result"
    }
   ],
   "source": [
    "sneaker.head(1)"
   ]
  },
  {
   "cell_type": "code",
   "execution_count": 13,
   "metadata": {},
   "outputs": [],
   "source": [
    "inter_update = Path(os.getcwd()) / '..' / '..'/ 'data' / '02_intermediate'\n",
    "sneaker.to_csv(inter_update / 'test.csv', index=False)"
   ]
  }
 ],
 "metadata": {
  "kernelspec": {
   "display_name": "Python 3",
   "language": "python",
   "name": "python3"
  },
  "language_info": {
   "codemirror_mode": {
    "name": "ipython",
    "version": 3
   },
   "file_extension": ".py",
   "mimetype": "text/x-python",
   "name": "python",
   "nbconvert_exporter": "python",
   "pygments_lexer": "ipython3",
   "version": "3.7.7"
  }
 },
 "nbformat": 4,
 "nbformat_minor": 4
}
