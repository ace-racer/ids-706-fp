{
 "cells": [
  {
   "cell_type": "code",
   "execution_count": 17,
   "metadata": {},
   "outputs": [],
   "source": [
    "import statsmodels.formula.api as smf\n",
    "import pandas as pd\n",
    "import numpy as np\n",
    "import os\n",
    "from pathlib import Path\n",
    "from statsmodels.iolib.smpickle import load_pickle"
   ]
  },
  {
   "cell_type": "markdown",
   "metadata": {},
   "source": [
    "## Train"
   ]
  },
  {
   "cell_type": "code",
   "execution_count": 2,
   "metadata": {},
   "outputs": [],
   "source": [
    "cur_dir = os.getcwd()\n",
    "dpath = Path(cur_dir)\n",
    "dpath = dpath / \"..\" / \"..\" / \"data\" / \"02_intermediate\"\n",
    "mpath = dpath / \"..\" / \"..\" / \"prod-models\""
   ]
  },
  {
   "cell_type": "code",
   "execution_count": 3,
   "metadata": {},
   "outputs": [],
   "source": [
    "train = pd.read_csv(dpath / 'train.csv')\n",
    "train = train[['style_code', 'name', 'date', 'release_month', 'release_dow', 'retail_price', \n",
    "       'brand', 'wmns', 'collab', 'retro', 'kids', 'resale_price']]\n",
    "train = train.dropna()\n",
    "train = train.reset_index(drop=True)\n",
    "train['wmns'] = train['wmns'].astype('int')\n",
    "train['collab'] = train['collab'].astype('int')\n",
    "train['retro'] = train['retro'].astype('int')\n",
    "train['kids'] = train['kids'].astype('int')\n",
    "train['log_resale'] = np.log(train['resale_price'])\n",
    "train['log_retail'] = np.log(train['retail_price'])"
   ]
  },
  {
   "cell_type": "code",
   "execution_count": 4,
   "metadata": {},
   "outputs": [],
   "source": [
    "# labels = train[['style_code','name','date']]\n",
    "# y = train[['resale_price']]\n",
    "# train = train[['release_month', 'release_dow','retail_price', 'brand', 'wmns', 'collab', 'retro', 'kids']]"
   ]
  },
  {
   "cell_type": "code",
   "execution_count": 5,
   "metadata": {},
   "outputs": [],
   "source": [
    "# month = pd.get_dummies(train['release_month'])\n",
    "# day = pd.get_dummies(train['release_dow'])\n",
    "# brand = pd.get_dummies(train['brand'])\n",
    "# retail = train[['retail_price']]\n",
    "# bools = train[['wmns', 'collab', 'retro', 'kids']]\n",
    "# X = pd.concat([month, day, brand, retail, bools],axis=1)"
   ]
  },
  {
   "cell_type": "code",
   "execution_count": 6,
   "metadata": {},
   "outputs": [],
   "source": [
    "formula = \"log_resale ~ C(collab) + C(retro) + C(kids) + C(wmns) + C(brand) + C(release_dow) + C(release_month) + log_retail\""
   ]
  },
  {
   "cell_type": "code",
   "execution_count": 7,
   "metadata": {},
   "outputs": [],
   "source": [
    "lm = smf.ols(formula = formula, data = train).fit()"
   ]
  },
  {
   "cell_type": "code",
   "execution_count": 8,
   "metadata": {},
   "outputs": [],
   "source": [
    "lm.save(mpath / 'resale_predictor.pickle')"
   ]
  },
  {
   "cell_type": "markdown",
   "metadata": {},
   "source": [
    "## Test"
   ]
  },
  {
   "cell_type": "code",
   "execution_count": 18,
   "metadata": {},
   "outputs": [],
   "source": [
    "lm = load_pickle(mpath / \"resale_predictor.pickle\")"
   ]
  },
  {
   "cell_type": "code",
   "execution_count": 19,
   "metadata": {},
   "outputs": [],
   "source": [
    "test = pd.read_csv(dpath / 'test.csv')\n",
    "test['wmns'] = test['wmns'].astype('int')\n",
    "test['collab'] = test['collab'].astype('int')\n",
    "test['retro'] = test['retro'].astype('int')\n",
    "test['kids'] = test['kids'].astype('int')\n",
    "test['log_resale'] = np.log(train['resale_price'])\n",
    "test['log_retail'] = np.log(train['retail_price'])\n",
    "test['retail_price'] = test['retail_price'].astype('int')"
   ]
  },
  {
   "cell_type": "code",
   "execution_count": 20,
   "metadata": {},
   "outputs": [],
   "source": [
    "labels = test[['style_code','name','date','retail_price']]\n",
    "# month = pd.get_dummies(test['release_month'])\n",
    "# day = pd.get_dummies(test['release_dow'])\n",
    "# brand = pd.get_dummies(test['brand'])\n",
    "# retail = test[['retail_price']]\n",
    "# bools = test[['wmns', 'collab', 'retro', 'kids']]\n",
    "# X_test = pd.concat([month, day, brand,retail, bools],axis=1)"
   ]
  },
  {
   "cell_type": "code",
   "execution_count": 21,
   "metadata": {},
   "outputs": [],
   "source": [
    "# for cname in list(X.columns):\n",
    "#     if cname not in list(X_test.columns):\n",
    "#         X_test[cname] = 0"
   ]
  },
  {
   "cell_type": "code",
   "execution_count": 22,
   "metadata": {},
   "outputs": [],
   "source": [
    "lm_resale = pd.DataFrame(lm.predict(test)).rename(columns={0:'pred_resale_price'})\n",
    "lm_resale['pred_resale_price'] = np.exp(lm_resale['pred_resale_price']).astype('int')"
   ]
  },
  {
   "cell_type": "code",
   "execution_count": 23,
   "metadata": {},
   "outputs": [],
   "source": [
    "output = pd.concat([labels, lm_resale], axis=1)\n",
    "output = output.sort_values(by='date')"
   ]
  },
  {
   "cell_type": "code",
   "execution_count": 24,
   "metadata": {},
   "outputs": [],
   "source": [
    "opath = dpath / \"..\" / \"..\" / \"data\" / \"07_model_output\"\n",
    "output.to_csv(opath / 'output.csv', index=False)"
   ]
  },
  {
   "cell_type": "code",
   "execution_count": null,
   "metadata": {},
   "outputs": [],
   "source": []
  }
 ],
 "metadata": {
  "kernelspec": {
   "display_name": "Python 3",
   "language": "python",
   "name": "python3"
  },
  "language_info": {
   "codemirror_mode": {
    "name": "ipython",
    "version": 3
   },
   "file_extension": ".py",
   "mimetype": "text/x-python",
   "name": "python",
   "nbconvert_exporter": "python",
   "pygments_lexer": "ipython3",
   "version": "3.7.7"
  }
 },
 "nbformat": 4,
 "nbformat_minor": 4
}
